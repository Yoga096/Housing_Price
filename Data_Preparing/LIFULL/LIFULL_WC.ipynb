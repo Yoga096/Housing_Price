{
  "cells": [
    {
      "cell_type": "code",
      "execution_count": null,
      "metadata": {
        "id": "OPtKxLX8qs1x"
      },
      "outputs": [],
      "source": [
        "from retry import retry\n",
        "import requests\n",
        "from bs4 import BeautifulSoup\n",
        "import pandas as pd\n",
        "\n",
        "# !pip install retry"
      ]
    },
    {
      "cell_type": "code",
      "execution_count": null,
      "metadata": {
        "id": "HAuHl_IEqs2k"
      },
      "outputs": [],
      "source": [
        "# 東京23区\n",
        "base_url = \"https://suumo.jp/jj/chintai/ichiran/FR301FC001/?fw2=&mt=9999999&cn=9999999&ta=13&et=9999999&sc=13105&shkr1=03&ar=030&bs=040&ct=9999999&shkr3=03&shkr2=03&mb=0&shkr4=03&cb=0.0&page={}\"\n",
        "# https://suumo.jp/jj/chintai/ichiran/FR301FC005/?fw2=&mt=9999999&cn=9999999&ta=13&et=9999999&sc=13105&shkr1=03&ar=030&bs=040&ct=9999999&shkr3=03&shkr2=03&mb=0&shkr4=03&cb=0.0&&page={}\n",
        "@retry(tries=3, delay=10, backoff=2)\n",
        "def get_html(url):\n",
        "    r = requests.get(url)\n",
        "    soup = BeautifulSoup(r.content, \"html.parser\")\n",
        "    return soup"
      ]
    },
    {
      "cell_type": "code",
      "execution_count": null,
      "metadata": {
        "id": "LcshynIlqs2m",
        "outputId": "a29e86d5-014c-4f1f-9cd5-6e5156fc8986"
      },
      "outputs": [
        {
          "name": "stdout",
          "output_type": "stream",
          "text": [
            "page 1 items 30\n"
          ]
        }
      ],
      "source": [
        "all_data = []\n",
        "max_page = 1\n",
        "\n",
        "for page in range(1, max_page+1):\n",
        "    # define url\n",
        "    url = base_url.format(page)\n",
        "\n",
        "    # get html\n",
        "    soup = get_html(url)\n",
        "\n",
        "    # extract all items\n",
        "    items = soup.findAll(\"div\", {\"class\": \"cassetteitem\"})\n",
        "    print(\"page\", page, \"items\", len(items))\n",
        "\n",
        "    # process each item\n",
        "    for item in items:\n",
        "        stations = item.findAll(\"div\", {\"class\": \"cassetteitem_detail-text\"})\n",
        "\n",
        "        # process each station\n",
        "        for station in stations:\n",
        "            # define variable\n",
        "            base_data = {}\n",
        "\n",
        "            # collect base information\n",
        "            base_data[\"名称\"] = item.find(\"div\", {\"class\": \"cassetteitem_content-title\"}).getText().strip()\n",
        "            base_data[\"カテゴリー\"] = item.find(\"div\", {\"class\": \"cassetteitem_content-label\"}).getText().strip()\n",
        "            base_data[\"アドレス\"] = item.find(\"li\", {\"class\": \"cassetteitem_detail-col1\"}).getText().strip()\n",
        "            base_data[\"アクセス\"] = station.getText().strip()\n",
        "            base_data[\"築年数\"] = item.find(\"li\", {\"class\": \"cassetteitem_detail-col3\"}).findAll(\"div\")[0].getText().strip()\n",
        "            base_data[\"構造\"] = item.find(\"li\", {\"class\": \"cassetteitem_detail-col3\"}).findAll(\"div\")[1].getText().strip()\n",
        "\n",
        "            # process for each room\n",
        "            tbodys = item.find(\"table\", {\"class\": \"cassetteitem_other\"}).findAll(\"tbody\")\n",
        "\n",
        "            for tbody in tbodys:\n",
        "                data = base_data.copy()\n",
        "\n",
        "                data[\"階数\"] = tbody.findAll(\"td\")[2].getText().strip()\n",
        "\n",
        "                data[\"家賃\"] = tbody.findAll(\"td\")[3].findAll(\"li\")[0].getText().strip()\n",
        "                data[\"管理費\"] = tbody.findAll(\"td\")[3].findAll(\"li\")[1].getText().strip()\n",
        "\n",
        "                data[\"敷金\"] = tbody.findAll(\"td\")[4].findAll(\"li\")[0].getText().strip()\n",
        "                data[\"礼金\"] = tbody.findAll(\"td\")[4].findAll(\"li\")[1].getText().strip()\n",
        "\n",
        "                data[\"間取り\"] = tbody.findAll(\"td\")[5].findAll(\"li\")[0].getText().strip()\n",
        "                data[\"面積\"] = tbody.findAll(\"td\")[5].findAll(\"li\")[1].getText().strip()\n",
        "\n",
        "                data[\"URL\"] = \"https://suumo.jp\" + tbody.findAll(\"td\")[8].find(\"a\").get(\"href\")\n",
        "\n",
        "                all_data.append(data)\n",
        "\n",
        "# convert to dataframe\n",
        "df = pd.DataFrame(all_data)"
      ]
    },
    {
      "cell_type": "code",
      "execution_count": null,
      "metadata": {
        "id": "m0rYJRrgqs2r"
      },
      "outputs": [],
      "source": [
        "df.to_csv(\"./output/rooms/test.csv\", encoding = 'utf-8-sig', index = 0)"
      ]
    },
    {
      "cell_type": "code",
      "execution_count": null,
      "metadata": {
        "id": "Da0KauT7qs2s"
      },
      "outputs": [],
      "source": [
        "#urls = ['https://suumo.jp/chintai/jnc_000088712304/?bc=100367779141', ]\n",
        "urls = df[\"URL\"].tolist()[:10]\n",
        "room_details = []\n",
        "\n",
        "for url in urls:\n",
        "    data = {\"URL\": url}\n",
        "\n",
        "    # get html\n",
        "    soup = get_html(url)\n",
        "\n",
        "    # 部屋情報\n",
        "    room_info = soup.findAll(\"table\", {\"class\": \"property_view_table\"})[0]\n",
        "    titles = [x.getText().strip() for x in room_info.findAll(\"th\", {\"class\": \"property_view_table-title\"})]\n",
        "    values = [x.getText().strip() for x in room_info.findAll(\"td\", {\"class\": \"property_view_table-body\"})]\n",
        "    for i in range(len(titles)):\n",
        "        data[titles[i]] = values[i]\n",
        "\n",
        "    # 部屋の特徴・設備\n",
        "    data[\"部屋の特徴・設備\"] = soup.find(\"div\", {\"class\": \"bgc-wht ol-g\"}).find(\"li\").getText().strip()\n",
        "\n",
        "    # 物件概要\n",
        "    room_info = soup.findAll(\"table\", {\"class\": \"data_table table_gaiyou\"})[0]\n",
        "    titles = [x.getText().strip() for x in room_info.findAll(\"th\")]\n",
        "    values = [x.getText().strip() for x in room_info.findAll(\"td\")]\n",
        "    for i in range(len(titles)):\n",
        "        data[titles[i]] = values[i]\n",
        "\n",
        "    room_details.append(data)\n",
        "    #print(len(titles))\n",
        "    #print(len(values))\n",
        "    #print(x)\n",
        "    #print(titles, values)\n",
        "\n",
        "df_details = pd.DataFrame(room_details)"
      ]
    },
    {
      "cell_type": "code",
      "execution_count": null,
      "metadata": {
        "id": "qIzMgTp9qs2u"
      },
      "outputs": [],
      "source": [
        "df_details.to_csv(\"./output/details/test.csv\", encoding = 'utf-8-sig', index = 0)"
      ]
    },
    {
      "cell_type": "code",
      "execution_count": null,
      "metadata": {
        "id": "2qciPB1rqs2v",
        "outputId": "3be2c21f-5f00-4621-b2ed-2fb212f286fa"
      },
      "outputs": [
        {
          "data": {
            "text/html": [
              "<div>\n",
              "<style scoped>\n",
              "    .dataframe tbody tr th:only-of-type {\n",
              "        vertical-align: middle;\n",
              "    }\n",
              "\n",
              "    .dataframe tbody tr th {\n",
              "        vertical-align: top;\n",
              "    }\n",
              "\n",
              "    .dataframe thead th {\n",
              "        text-align: right;\n",
              "    }\n",
              "</style>\n",
              "<table border=\"1\" class=\"dataframe\">\n",
              "  <thead>\n",
              "    <tr style=\"text-align: right;\">\n",
              "      <th></th>\n",
              "      <th>名称</th>\n",
              "      <th>カテゴリー</th>\n",
              "      <th>アドレス</th>\n",
              "      <th>アクセス</th>\n",
              "      <th>築年数</th>\n",
              "      <th>構造</th>\n",
              "      <th>階数</th>\n",
              "      <th>家賃</th>\n",
              "      <th>管理費</th>\n",
              "      <th>敷金</th>\n",
              "      <th>礼金</th>\n",
              "      <th>間取り</th>\n",
              "      <th>面積</th>\n",
              "      <th>URL</th>\n",
              "    </tr>\n",
              "  </thead>\n",
              "  <tbody>\n",
              "    <tr>\n",
              "      <th>0</th>\n",
              "      <td>東京メトロ丸ノ内線 茗荷谷駅 3階建 築7年</td>\n",
              "      <td>賃貸マンション</td>\n",
              "      <td>東京都文京区小日向３</td>\n",
              "      <td>東京メトロ丸ノ内線/茗荷谷駅 歩6分</td>\n",
              "      <td>築7年</td>\n",
              "      <td>3階建</td>\n",
              "      <td>2階</td>\n",
              "      <td>15.2万円</td>\n",
              "      <td>7000円</td>\n",
              "      <td>15.2万円</td>\n",
              "      <td>30.4万円</td>\n",
              "      <td>1LDK</td>\n",
              "      <td>38.76m2</td>\n",
              "      <td>https://suumo.jp/chintai/jnc_000088712304/?bc=...</td>\n",
              "    </tr>\n",
              "  </tbody>\n",
              "</table>\n",
              "</div>"
            ],
            "text/plain": [
              "                       名称    カテゴリー        アドレス                アクセス  築年数   構造  \\\n",
              "0  東京メトロ丸ノ内線 茗荷谷駅 3階建 築7年  賃貸マンション  東京都文京区小日向３  東京メトロ丸ノ内線/茗荷谷駅 歩6分  築7年  3階建   \n",
              "\n",
              "   階数      家賃    管理費      敷金      礼金   間取り       面積  \\\n",
              "0  2階  15.2万円  7000円  15.2万円  30.4万円  1LDK  38.76m2   \n",
              "\n",
              "                                                 URL  \n",
              "0  https://suumo.jp/chintai/jnc_000088712304/?bc=...  "
            ]
          },
          "execution_count": 59,
          "metadata": {},
          "output_type": "execute_result"
        }
      ],
      "source": [
        "df.head(1)"
      ]
    },
    {
      "cell_type": "code",
      "execution_count": null,
      "metadata": {
        "id": "w87ZEXNpqs2w"
      },
      "outputs": [],
      "source": []
    }
  ],
  "metadata": {
    "kernelspec": {
      "display_name": "base",
      "language": "python",
      "name": "python3"
    },
    "language_info": {
      "codemirror_mode": {
        "name": "ipython",
        "version": 3
      },
      "file_extension": ".py",
      "mimetype": "text/x-python",
      "name": "python",
      "nbconvert_exporter": "python",
      "pygments_lexer": "ipython3",
      "version": "3.7.6"
    },
    "colab": {
      "provenance": []
    }
  },
  "nbformat": 4,
  "nbformat_minor": 0
}